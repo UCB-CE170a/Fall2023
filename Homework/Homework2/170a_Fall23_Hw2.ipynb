{
 "cells": [
  {
   "cell_type": "markdown",
   "id": "0818d808",
   "metadata": {},
   "source": [
    "# Fall 2022 CE170A HW2: Sensor Data Analysis\n",
    "v3 - Fall 2022: Prof. Kenichi Soga, Jaewon Saw, Shih-Hung Chiu\n",
    "\n",
    "v2 - Fall 2021: Prof. Kenichi Soga, Renjie Wu, Yaobin Yang, James Wang "
   ]
  },
  {
   "cell_type": "code",
   "execution_count": null,
   "id": "314ac710",
   "metadata": {},
   "outputs": [],
   "source": [
    "import os\n",
    "!wget \"https://raw.githubusercontent.com/UCB-CE170a/Fall2021/master/Homeworks/HW2/data/Fall2022_data.zip\" -O Fall2022_data.zip\n",
    "!unzip Fall2022_data"
   ]
  },
  {
   "cell_type": "markdown",
   "id": "97b87c66",
   "metadata": {},
   "source": [
    "## Background\n",
    "\n",
    "There are two ways to understand phenomena scientifically. One is through mathematical modeling and computer simulation, which is the purpose of our quiz 2 (truss finite element simulation). The other is through experiments, which are performed in this class (model bridge loading experiment). By comparing experimental results with simulation results, one may appreciate the complexity of real-world phenomena and have a deeper understanding of the power and limitations of the simulation method.\n",
    "\n"
   ]
  },
  {
   "cell_type": "markdown",
   "id": "a34dc1f4",
   "metadata": {},
   "source": [
    "\n",
    "<center>\n",
    "<img src=\"https://github.com/UCB-CE170a/Fall2020/raw/master/homeworks/hw5/figures/overview.png\" alt=\"Node numbering\" width=\"600\" />\n",
    "    \n",
    "    Figure 1. Simulation Vs. Experiment\n",
    "</center>"
   ]
  },
  {
   "cell_type": "markdown",
   "id": "5e1eb2db",
   "metadata": {},
   "source": [
    "In this assignment, you are going to analyze the sensor data from the model bridge experiment and compare the result with the truss simulation performed in Quiz 2. The data you are going to explore are as follows:\n",
    "* Displacement data from displacement sensors (potentiometric measuring devices),\n",
    "* Tilt data from WSN tilt motes, and \n",
    "* Distributed (spatial) strain data from fiber optics sensors.\n"
   ]
  },
  {
   "cell_type": "markdown",
   "id": "ba3577c5",
   "metadata": {},
   "source": [
    "The typical workflow of data analysis is summarized in Figure 2. \n",
    "<center>\n",
    "<img src=\"https://github.com/UCB-CE170a/Fall2020/raw/master/homeworks/hw5/figures/data_processing.png\" alt=\"Node numbering\" width=\"600\" />\n",
    "    \n",
    "    Figure 2. Typical workflow of data analysis\n",
    "</center>"
   ]
  },
  {
   "cell_type": "markdown",
   "id": "af050ce9",
   "metadata": {},
   "source": [
    "We start with the raw data collected from the sensor systems. Then, we preprocess the raw data and store the cleaned data into a data storage system. There are various reasons for data preprocessing. Missing data handling, experiment/equipment setting adjustment, and data format conversion are common reasons (there are more, of course). \n",
    "\n",
    "Most data can be represented as a single spreadsheet. Such data include the displacement data and tilt data that we are going to explore in this assignment. However, in some cases, data can have complex structures; such as the distributed strain data we have in this case. The distributed strain data is collected from fiber optics sensors, which record the strain along with the fiber (spatial component) during the experiment (time component). As you all know, we deployed numerous fiber optics sensors (with different lengths) across different structure members to monitor the load responses of the model bridge. Since we have three model bridges this year, each with different sensor deployment strategies, the sensors' raw data are huge and hard to handle. For the ease of this exercise, the distributed strain data is preprocessed by us, and only some cleaned data from certain bridge members are presented here.\n",
    "\n",
    "\n",
    "Having the cleaned data on our hands, we can perform various postprocessing techniques such as statistical analysis, and most importantly, visualize the data for interpretation.\n",
    "\n",
    "The data are given in a format that follows the numbering given in the following figures.\n",
    "\n",
    "Figure 3 shows the nodal numbering of the model bridge.\n",
    "<center>\n",
    "<img src=\"https://github.com/UCB-CE170a/Fall2020/raw/master/homeworks/hw5/figures/bridge_diagram.png\" alt=\"Node numbering\" width=\"500\" />\n",
    "    \n",
    "    Figure 3. Node numbering for the model bridge\n",
    "</center>\n"
   ]
  },
  {
   "cell_type": "markdown",
   "id": "6d4ceb9d",
   "metadata": {},
   "source": [
    "## Videos from bridge tests\n",
    "Refer to the videos <a href=\"https://drive.google.com/drive/folders/1HdlADyA2HnBFveScQDFVCDR5zo17PDfv?usp=sharing\">here</a>\n",
    " to look back on any details you need for the following sections."
   ]
  },
  {
   "cell_type": "markdown",
   "id": "d233956c",
   "metadata": {},
   "source": [
    "# Data Exploration"
   ]
  },
  {
   "cell_type": "markdown",
   "id": "34e05a7b",
   "metadata": {},
   "source": [
    "We tested three bridges: (1) Single-angle bridge, (2) Double-angle bridge, (3) Double-angle bridge with defect. Throughout this assignment, we will use the indices 1, 2, and 3 to refer to those bridges. \n",
    "\n",
    "Let's first install the required libraries and then read the processed data for the three bridges (in desired units and format) that we'll need for our analysis."
   ]
  },
  {
   "cell_type": "code",
   "execution_count": null,
   "id": "e700c626",
   "metadata": {},
   "outputs": [],
   "source": [
    "import pandas as pd\n",
    "import numpy as np\n",
    "from matplotlib import pyplot as plt"
   ]
  },
  {
   "cell_type": "markdown",
   "id": "e63bd517",
   "metadata": {},
   "source": [
    "# (1) Loading processes\n",
    "Let's take a look at the loading processes first."
   ]
  },
  {
   "cell_type": "code",
   "execution_count": null,
   "id": "a063b440",
   "metadata": {},
   "outputs": [],
   "source": [
    "lbs_to_kN = 4.4482216153/1000\n",
    "\n",
    "load1 = np.loadtxt(\"load1.txt\") * lbs_to_kN\n",
    "load2 = np.loadtxt(\"load2.txt\") * lbs_to_kN\n",
    "load3 = np.loadtxt(\"load3.txt\") * lbs_to_kN"
   ]
  },
  {
   "cell_type": "code",
   "execution_count": null,
   "id": "8ab7c55a",
   "metadata": {},
   "outputs": [],
   "source": [
    "fig = plt.figure()\n",
    "ax = plt.axes()\n",
    "\n",
    "ax.plot(load1, label='1: Single-Angle')\n",
    "ax.plot(load2, label='2: Double-Angle')\n",
    "ax.plot(load3, label='3: Double-Angle with Defect')\n",
    "plt.ylabel('Axial force (kN)', fontsize = 10)\n",
    "plt.xlabel('Time Steps', fontsize = 10)\n",
    "plt.ylim([0, 75])\n",
    "\n",
    "ax.legend()\n",
    "ax.grid(color = [0.8, 0.8, 0.8], which = 'major')\n",
    "ax.xaxis.set_ticks_position('both')\n",
    "ax.yaxis.set_ticks_position('both')\n",
    "ax.tick_params(direction=\"in\", which = 'major', length = 6, width = 1)\n",
    "ax.tick_params(direction=\"in\", which = 'minor', length = 3, width = 0.6)\n",
    "ax.set_title('Load vs. Time', fontsize = 14)"
   ]
  },
  {
   "cell_type": "markdown",
   "id": "8af140ce",
   "metadata": {},
   "source": [
    "<font color='red'>Question: </font> For each bridge, what were the maximum load and the corresponding number of time steps taken to reach the maximum load? Does the above plot match your on-site observations? Is the plot as you would expect?"
   ]
  },
  {
   "cell_type": "markdown",
   "id": "b116845a",
   "metadata": {},
   "source": [
    "<font color='red'>Answer: </font>"
   ]
  },
  {
   "cell_type": "markdown",
   "id": "33595fba",
   "metadata": {},
   "source": [
    "# (2) Expansion of bottom members"
   ]
  },
  {
   "cell_type": "markdown",
   "id": "241153d0",
   "metadata": {},
   "source": [
    "Now let's take a look at how the bottom members responded to the load. To see the expansion of those members, we will need data from the linear variable differential transformers (LVDTs) that we placed at each end of the bottom members. As seen from Figures 3 and 4, we see that we need LVDTs 2 and 7 for member AB and LVDTs 3 and 6 for member DC. \n",
    "<center>\n",
    "<img src=\"https://github.com/UCB-CE170a/Fall2021/raw/master/Homeworks/HW2/images/lvdt_position.jpg\" alt=\"Node numbering\" width=\"800\" />\n",
    "    \n",
    "    Figure 4.1 LVDT configuration for the experiment. \n",
    "</center>\n",
    "\n",
    "<center>\n",
    "<img src=\"https://github.com/UCB-CE170a/Fall2021/raw/master/Homeworks/HW2/images/figure4.png\" alt=\"A bridge.\" width=\"600\" />\n",
    "    \n",
    "    Figure 4.2 Dimensions of the model\n",
    "</center>"
   ]
  },
  {
   "cell_type": "markdown",
   "id": "015d9b65",
   "metadata": {},
   "source": [
    "Let's plot the load vs. displacement curves for LVDTs 2, 3, 6, and 7, using the plotting function below. Note that the plot_lines function is capable of plotting multiple lines."
   ]
  },
  {
   "cell_type": "code",
   "execution_count": null,
   "id": "9732f727",
   "metadata": {},
   "outputs": [],
   "source": [
    "def plot_lines(xs,ys,xy_labels,line_lables, title_name, xlim_end):\n",
    "    \"\"\" A multi-line plotter\n",
    "     Args:\n",
    "      xs: list of x values, i.e. [x1,x2,x3...]\n",
    "      ys: list of y values, i.e. [y1,y2,y3...]\n",
    "      xy_labels: labels for the figure, in the form of (x_label, y_label)\n",
    "      line_lables: labels for plotted lines, must match to the order of yvalues in y\n",
    "\n",
    "    Returns:\n",
    "      ax: matplotlib axes \n",
    "    \"\"\"\n",
    "    assert len(xs)==len(ys), \"number of x must equal to number of y\"\n",
    "    assert len(ys)==len(line_lables),  \"ys and line_lables must be list with same shape, i.e. [y1],[y1_label]\"\n",
    "    \n",
    "    fig = plt.figure()\n",
    "    ax=fig.add_axes([0,0,1,1])\n",
    "    ax.grid(color = [0.8, 0.8, 0.8], which = 'major')\n",
    "    \n",
    "    for x,y in zip(xs,ys):\n",
    "        l = ax.plot(x,y)\n",
    "    ax.set_xlabel(xy_labels[0])\n",
    "    ax.set_ylabel(xy_labels[1])\n",
    "    ax.legend(labels = line_lables)\n",
    "    \n",
    "    ax.set_title(title_name,\n",
    "             fontsize = 14)\n",
    "    \n",
    "    ax.set_xlim([0, xlim_end])\n",
    "    \n",
    "    return ax"
   ]
  },
  {
   "cell_type": "markdown",
   "id": "d1a4ba6a",
   "metadata": {},
   "source": [
    "## (2.1) Member AB"
   ]
  },
  {
   "cell_type": "markdown",
   "id": "89b86e20",
   "metadata": {},
   "source": [
    "We first load the LVDT data for member AB:"
   ]
  },
  {
   "cell_type": "code",
   "execution_count": null,
   "id": "938f87ec",
   "metadata": {},
   "outputs": [],
   "source": [
    "inch_to_m = 0.0254\n",
    "\n",
    "LVDT2_bridge1 = np.loadtxt(\"LVDT2_bridge1.txt\") * inch_to_m\n",
    "LVDT7_bridge1 = np.loadtxt(\"LVDT7_bridge1.txt\") * inch_to_m\n",
    "\n",
    "LVDT2_bridge2 = np.loadtxt(\"LVDT2_bridge2.txt\") * inch_to_m\n",
    "LVDT7_bridge2 = np.loadtxt(\"LVDT7_bridge2.txt\") * inch_to_m\n",
    "\n",
    "LVDT2_bridge3 = np.loadtxt(\"LVDT2_bridge3.txt\") * inch_to_m\n",
    "LVDT7_bridge3 = np.loadtxt(\"LVDT7_bridge3.txt\") * inch_to_m"
   ]
  },
  {
   "cell_type": "markdown",
   "id": "9d729c97",
   "metadata": {},
   "source": [
    "Plot the individual LVDT 2 and LVDT 7 data for the three bridges:"
   ]
  },
  {
   "cell_type": "code",
   "execution_count": null,
   "id": "0ad86cdd",
   "metadata": {},
   "outputs": [],
   "source": [
    "# The following indices (ind1, ind2, ind3) are used for plotting the LVDT data up to \n",
    "# approximately their maximum magnitudes. Feel free to change these indices and see what the plot looks like!\n",
    "\n",
    "ind1 = 2133\n",
    "ind2 = 1645\n",
    "ind3 = 740\n",
    "\n",
    "plot_lines([load1[0:ind1], load2[0:ind2], load3[0:ind3]],[LVDT2_bridge1[0:ind1], LVDT2_bridge2[0:ind2], LVDT2_bridge3[0:ind3]],\n",
    "           ['Load (kN)','Displacement (m)'],['1: Single-Angle','2: Double-Angle', '3: Double-Angle with Defect'], 'LVDT 2', 60)"
   ]
  },
  {
   "cell_type": "code",
   "execution_count": null,
   "id": "209e4e2d",
   "metadata": {},
   "outputs": [],
   "source": [
    "plot_lines([load1[0:ind1], load2[0:ind2], load3[0:ind3]],[LVDT7_bridge1[0:ind1], LVDT7_bridge2[0:ind2], LVDT7_bridge3[0:ind3]],\n",
    "           ['Load (kN)','Displacement (m)'],['1: Single-Angle','2: Double-Angle', '3: Double-Angle with Defect'], 'LVDT 7', 60)"
   ]
  },
  {
   "cell_type": "markdown",
   "id": "ee95619c",
   "metadata": {},
   "source": [
    "Now, we use the LVDT 2 and LVDT 7 data to plot the expansion of member AB:"
   ]
  },
  {
   "cell_type": "code",
   "execution_count": null,
   "id": "722b64dd",
   "metadata": {},
   "outputs": [],
   "source": [
    "plot_lines([load1[0:ind1], load2[0:ind2], load3[0:ind3]],[LVDT2_bridge1[0:ind1]+LVDT7_bridge1[0:ind1], LVDT2_bridge2[0:ind2]+LVDT7_bridge2[0:ind2], LVDT2_bridge3[0:ind3]+LVDT7_bridge3[0:ind3]],\n",
    "           ['Load (kN)','Displacement (m)'],['1: Single-Angle','2: Double-Angle', '3: Double-Angle with Defect'], 'Member AB Expansion', 60)"
   ]
  },
  {
   "cell_type": "markdown",
   "id": "9ab223e3",
   "metadata": {},
   "source": [
    "<font color='red'>Question: </font> For each of the three bridges, describe the behavior of the LVDTs and the behavior of the bottom member using the plotted figures above. Given these displacements, what strains would you expect in the bottom members? How do the experimental results compare to your Quiz 2 calculations? "
   ]
  },
  {
   "cell_type": "markdown",
   "id": "307b3a6a",
   "metadata": {},
   "source": [
    "<font color='red'>Answer:</font> "
   ]
  },
  {
   "cell_type": "markdown",
   "id": "ea67f105",
   "metadata": {},
   "source": [
    "## (2.2) Member DC\n",
    "We repeat the process for member DC with LVDTs 3 and 6:"
   ]
  },
  {
   "cell_type": "code",
   "execution_count": null,
   "id": "a1094b9c",
   "metadata": {},
   "outputs": [],
   "source": [
    "LVDT3_bridge1 = np.loadtxt(\"LVDT3_bridge1.txt\") * inch_to_m\n",
    "LVDT6_bridge1 = np.loadtxt(\"LVDT6_bridge1.txt\") * inch_to_m\n",
    "\n",
    "LVDT3_bridge2 = np.loadtxt(\"LVDT3_bridge2.txt\") * inch_to_m\n",
    "LVDT6_bridge2 = np.loadtxt(\"LVDT6_bridge2.txt\") * inch_to_m\n",
    "\n",
    "LVDT3_bridge3 = np.loadtxt(\"LVDT3_bridge3.txt\") * inch_to_m\n",
    "LVDT6_bridge3 = np.loadtxt(\"LVDT6_bridge3.txt\") * inch_to_m"
   ]
  },
  {
   "cell_type": "code",
   "execution_count": null,
   "id": "e3946fbc",
   "metadata": {},
   "outputs": [],
   "source": [
    "# The following indices (ind1, ind2, ind3) are used for plotting the LVDT data up to \n",
    "# approximately their maximum magnitudes. Feel free to change these indices and see what the plot looks like!\n",
    "\n",
    "ind1 = 2133\n",
    "ind2 = 1660\n",
    "ind3 = 640\n",
    "\n",
    "plot_lines([load1[0:ind1], load2[0:ind2], load3[0:ind3]],[LVDT3_bridge1[0:ind1], LVDT3_bridge2[0:ind2], LVDT3_bridge3[0:ind3]],\n",
    "           ['Load (kN)','Displacement (m)'],['1: Single-Angle','2: Double-Angle', '3: Double-Angle with Defect'], 'LVDT 3', 60)"
   ]
  },
  {
   "cell_type": "code",
   "execution_count": null,
   "id": "4683ad45",
   "metadata": {},
   "outputs": [],
   "source": [
    "plot_lines([load1[0:ind1], load2[0:ind2], load3[0:ind3]],[LVDT6_bridge1[0:ind1], LVDT6_bridge2[0:ind2], LVDT6_bridge3[0:ind3]],\n",
    "           ['Load (kN)','Displacement (m)'],['1: Single-Angle','2: Double-Angle', '3: Double-Angle with Defect'], 'LVDT 6', 60)"
   ]
  },
  {
   "cell_type": "code",
   "execution_count": null,
   "id": "472e3d6c",
   "metadata": {},
   "outputs": [],
   "source": [
    "plot_lines([load1[0:ind1], load2[0:ind2], load3[0:ind3]],[LVDT3_bridge1[0:ind1]+LVDT6_bridge1[0:ind1], LVDT3_bridge2[0:ind2]+LVDT6_bridge2[0:ind2], LVDT3_bridge3[0:ind3]+LVDT6_bridge3[0:ind3]],\n",
    "           ['Load (kN)','Displacement (m)'],['1: Single-Angle','2: Double-Angle', '3: Double-Angle with Defect'], 'Member DC Expansion', 60)"
   ]
  },
  {
   "cell_type": "markdown",
   "id": "afda0166",
   "metadata": {},
   "source": [
    "<font color='red'>Question: </font> How does the behavior of Member DC compare to that of Member AB? What do you expect and what is the actual behavior?"
   ]
  },
  {
   "cell_type": "markdown",
   "id": "33e933b5",
   "metadata": {},
   "source": [
    "<font color='red'>Answer: </font>"
   ]
  },
  {
   "cell_type": "markdown",
   "id": "37356ae3",
   "metadata": {},
   "source": [
    "# (3) Rotation at the top of the bridge"
   ]
  },
  {
   "cell_type": "markdown",
   "id": "84bb7c10",
   "metadata": {},
   "source": [
    "Let's explore the tiltmeter data. Figure 5 shows the location of the WSN tilt motes and the orientation of the two orthogonal axes. The direction of angle is given for both longitudinal direction (L) and transverse direction (T).\n",
    "\n",
    "We will focus making a comparison between bridge 1 (single-angle) and bridge 2 (double-angle) for this section."
   ]
  },
  {
   "cell_type": "markdown",
   "id": "ac24f6b2",
   "metadata": {},
   "source": [
    "<center>\n",
    "<img src=\"https://github.com/UCB-CE170a/Fall2021/raw/master/Homeworks/HW2/images/tilt_defination.jpg\" alt=\"Node numbering\" width=\"600\" />\n",
    "    \n",
    "    Figure 5. The locations of WSN tilt motes.\n",
    "</center>"
   ]
  },
  {
   "cell_type": "code",
   "execution_count": null,
   "id": "10dee31a",
   "metadata": {},
   "outputs": [],
   "source": [
    "tilt1A = pd.read_csv('tilt_sync_1A.csv')\n",
    "tilt1B = pd.read_csv('tilt_sync_1B.csv')\n",
    "tilt2A = pd.read_csv('tilt_sync_2A.csv')\n",
    "tilt2B = pd.read_csv('tilt_sync_2B.csv')"
   ]
  },
  {
   "cell_type": "code",
   "execution_count": null,
   "id": "3399f77b",
   "metadata": {},
   "outputs": [],
   "source": [
    "# zero-out the tilt measurements\n",
    "tilt1A['A'] = tilt1A['A'] - tilt1A['A'].loc[0]\n",
    "tilt1B['B'] = tilt1B['B'] - tilt1B['B'].loc[0]\n",
    "tilt2A['A'] = tilt2A['A'] - tilt2A['A'].loc[0]\n",
    "tilt2B['B'] = tilt2B['B'] - tilt2B['B'].loc[0]"
   ]
  },
  {
   "cell_type": "code",
   "execution_count": null,
   "id": "799521d7",
   "metadata": {},
   "outputs": [],
   "source": [
    "fig = plt.figure()\n",
    "ax = plt.axes()\n",
    "\n",
    "ax.plot(tilt1A['Load(lb)']*lbs_to_kN, tilt1A['A'], label='Transverse')\n",
    "ax.plot(tilt1B['Load(lb)']*lbs_to_kN, tilt1B['B'], label='Longitudinal')\n",
    "\n",
    "plt.ylabel('Rotation (degrees)', fontsize = 10)\n",
    "plt.xlabel('Load (kN)', fontsize = 10)\n",
    "# plt.ylim([-3,7])\n",
    "ax.legend()\n",
    "ax.grid(color = [0.8, 0.8, 0.8], which = 'major')\n",
    "ax.xaxis.set_ticks_position('both')\n",
    "ax.yaxis.set_ticks_position('both')\n",
    "ax.tick_params(direction=\"in\", which = 'major', length = 6, width = 1)\n",
    "ax.tick_params(direction=\"in\", which = 'minor', length = 3, width = 0.6)\n",
    "ax.set_title('Bridge 1: Single-Angle', fontsize = 14)"
   ]
  },
  {
   "cell_type": "code",
   "execution_count": null,
   "id": "53b2f83d-6824-4196-aa2d-719dad89c5b5",
   "metadata": {},
   "outputs": [],
   "source": [
    "fig = plt.figure()\n",
    "ax = plt.axes()\n",
    "\n",
    "ax.plot(tilt2A['Load(lb)']*lbs_to_kN, tilt2A['A'], label='Transverse')\n",
    "ax.plot(tilt2B['Load(lb)']*lbs_to_kN, tilt2B['B'], label='Longitudinal')\n",
    "\n",
    "plt.ylabel('Rotation (degrees)', fontsize = 10)\n",
    "plt.xlabel('Load (kN)', fontsize = 10)\n",
    "plt.ylim([-0.3, 0.6])\n",
    "ax.legend()\n",
    "ax.grid(color = [0.8, 0.8, 0.8], which = 'major')\n",
    "ax.xaxis.set_ticks_position('both')\n",
    "ax.yaxis.set_ticks_position('both')\n",
    "ax.tick_params(direction=\"in\", which = 'major', length = 6, width = 1)\n",
    "ax.tick_params(direction=\"in\", which = 'minor', length = 3, width = 0.6)\n",
    "ax.set_title('Bridge 2: Double-Angle', fontsize = 14)"
   ]
  },
  {
   "cell_type": "markdown",
   "id": "4232a547",
   "metadata": {},
   "source": [
    "<font color='red'>Question: </font> Using the two rotation plots above, discuss how the two bridges behaved as they were about to fail. Do the failure patterns match the your observations?"
   ]
  },
  {
   "cell_type": "markdown",
   "id": "055c4f3e",
   "metadata": {},
   "source": [
    "<font color='red'>Answer: </font>"
   ]
  },
  {
   "cell_type": "markdown",
   "id": "c68c85ff",
   "metadata": {},
   "source": [
    "<font color='red'>Question: </font> Think about what role tiltmeters could play in providing early warning of model bridge failure."
   ]
  },
  {
   "cell_type": "markdown",
   "id": "b6d312a8",
   "metadata": {},
   "source": [
    "<font color='red'>Answer: </font>"
   ]
  },
  {
   "cell_type": "markdown",
   "id": "7d168fbc",
   "metadata": {},
   "source": [
    "# (4) Behavior of individual members"
   ]
  },
  {
   "cell_type": "markdown",
   "id": "c8fa880c",
   "metadata": {},
   "source": [
    "Finally, let's explore the most interesting data, the distributed strain data collected from the fiber optics sensors. The model bridge memberes are divided into 4 planes: Bottom, Left-diagonal, Right-diagonal, and Middle plane. See Figure 7. \n",
    "\n",
    "\n",
    "<center>\n",
    "<img src=\"https://github.com/UCB-CE170a/Fall2020/raw/master/homeworks/hw5/figures/figure1.png\" alt=\"Node numbering\" width=\"800\" />\n",
    "    \n",
    "    Figure 7. Node numbering for the model bridge\n",
    "</center>\n",
    "\n",
    "As discussed earlier, the raw data collected by the fiber optics sensors are spatially distributed. Specifically, the data contains spatial strain information at each sample time for each fiber. The general preprocessing process is listed as the following:\n",
    "* Cleaning: Convert data format, remove headers, convert units, remove meaningless items... \n",
    "* Time synchronization: all the collected data is time-stamped. Unfortunately, the timing systems for different measurement equipment might be slightly different. For instance, the clock in the fiber optics analyzer is 2 minutes and 19 seconds faster than the one measuring the loading process. Synchronizing times across all equipment make the comparison/plotting of different measurements possible. \n",
    "* Resampling: sometimes, the sampling rates across different equipment are different. To compare different measurements from different machines (i.e., load vs. strain), one needs to resample the collected data to match the time stamp.\n",
    "* Normalization: some fibers are pre tensioned, meaning the starting measurement may not be 0. Doing normalization for the data makes the measurement (strain) comparable across different bridges. \n",
    " \n",
    "<font color='red'>Note: the data you see in this section is far from perfect (the fibers are attached by you!). If some data does not make any sense to you, think about the potential causes for that. Try your best to discuss your findings.  </font>\n",
    "\n",
    "For this section of the assignment, we'll focus on a few members from the <b><i>second bridge (double-angle). </b></i>"
   ]
  },
  {
   "cell_type": "markdown",
   "id": "ed94abc0",
   "metadata": {},
   "source": [
    "We first reread the load data, which has now been synchronized with the fiber optic data in time:"
   ]
  },
  {
   "cell_type": "code",
   "execution_count": null,
   "id": "7c528b6b",
   "metadata": {},
   "outputs": [],
   "source": [
    "conv_load  = pd.read_csv('conv_load.csv')\n",
    "gauge_length = 0.065"
   ]
  },
  {
   "cell_type": "code",
   "execution_count": null,
   "id": "75c938de",
   "metadata": {},
   "outputs": [],
   "source": [
    "sample_data = pd.read_csv('dict_CJ.csv')\n",
    "sample_data.head(5)"
   ]
  },
  {
   "cell_type": "markdown",
   "id": "b49d9605",
   "metadata": {},
   "source": [
    "The first row of the data provides the spatial location for each strain measurement points alone the fiber. The rest of the rows are the strain measurements across the fiber (0.065 m resolution) for every sample time. To access the strain measurement for certain truss members, one need to know the corresponding spatial locations of the member on the fiber. Luckily, our kind GSI did indexing (truss member end points to fiber locations) for all the truss members for all three bridges, so we know how to access the member from the data."
   ]
  },
  {
   "cell_type": "markdown",
   "id": "844d0bd6",
   "metadata": {},
   "source": [
    "## Time (load) Data Analysis\n",
    "Since different groups wired fiber cables in different ways and analyzing both spatial and temporal data requires skills beyond the boundary of this class, simplified strain data is used in the later part of the assignment. Certain truss members are extracted from the data for all bridges, and only the average (spatial averaged) strain for each truss member is provided along with the corresponding load levels."
   ]
  },
  {
   "cell_type": "markdown",
   "id": "090a4461",
   "metadata": {},
   "source": [
    "## (4.1) Diagonal Members"
   ]
  },
  {
   "cell_type": "code",
   "execution_count": null,
   "id": "8e4c6d21-4fea-45b6-9e23-06e19b9b48c2",
   "metadata": {},
   "outputs": [],
   "source": [
    "sensor_AG = pd.read_csv('comp_AG_timeseries.txt').to_numpy()\n",
    "sensor_BI = pd.read_csv('comp_BI_timeseries.txt').to_numpy()\n",
    "sensor_DH = pd.read_csv('comp_DH_timeseries.txt').to_numpy()\n",
    "sensor_CJ = pd.read_csv('comp_CJ_timeseries.txt').to_numpy()\n",
    "\n",
    "load = conv_load['load'].to_numpy()"
   ]
  },
  {
   "cell_type": "code",
   "execution_count": null,
   "id": "9c3cbc34",
   "metadata": {},
   "outputs": [],
   "source": [
    "ax = plt.axes()\n",
    "\n",
    "ax.plot(conv_load['load']*lbs_to_kN,sensor_AG, label='AG')\n",
    "ax.plot(conv_load['load']*lbs_to_kN,sensor_BI, label='BI')\n",
    "ax.plot(conv_load['load']*lbs_to_kN,sensor_DH, label='DH')\n",
    "ax.plot(conv_load['load']*lbs_to_kN,sensor_CJ, label='CJ')\n",
    "\n",
    "plt.ylabel('Strain (micro strain)', fontsize = 10)\n",
    "plt.xlabel('Load (kN)', fontsize = 10)\n",
    "ax.legend()\n",
    "ax.set_title('Diagonal Members', fontsize = 14)"
   ]
  },
  {
   "cell_type": "markdown",
   "id": "f4bf28fe",
   "metadata": {},
   "source": [
    "<font color='red'>Question: </font> Describe any similarities and differences between the members. What is the strain at approximately 10 kN? Does it match your predictions? Explain your reasoning."
   ]
  },
  {
   "cell_type": "markdown",
   "id": "43a7448d",
   "metadata": {},
   "source": [
    "<font color='red'>Answer: </font>"
   ]
  },
  {
   "cell_type": "markdown",
   "id": "2edcf6ba",
   "metadata": {},
   "source": [
    "## (4.2) Bottom Members"
   ]
  },
  {
   "cell_type": "code",
   "execution_count": null,
   "id": "932cd5ed-119f-4fba-bc47-055bcb1fa018",
   "metadata": {},
   "outputs": [],
   "source": [
    "sensor_AM = pd.read_csv('tens_AM_timeseries.txt').to_numpy()\n",
    "sensor_MB = pd.read_csv('tens_MB_timeseries.txt').to_numpy()\n",
    "sensor_DN = pd.read_csv('tens_DN_timeseries.txt').to_numpy()\n",
    "sensor_NC = pd.read_csv('tens_NC_timeseries.txt').to_numpy()"
   ]
  },
  {
   "cell_type": "code",
   "execution_count": null,
   "id": "6a66415f",
   "metadata": {},
   "outputs": [],
   "source": [
    "ax = plt.axes()\n",
    "\n",
    "plt.plot(conv_load['load']*lbs_to_kN,sensor_AM, label='AM')\n",
    "plt.plot(conv_load['load']*lbs_to_kN,sensor_MB, label='MB')\n",
    "plt.plot(conv_load['load']*lbs_to_kN,sensor_DN, label='DN')\n",
    "plt.plot(conv_load['load']*lbs_to_kN,sensor_NC, label='NC')\n",
    "\n",
    "plt.ylabel('Strain (micro strain)', fontsize = 10)\n",
    "plt.xlabel('Load (kN)', fontsize = 10)\n",
    "ax.legend()\n",
    "ax.set_title('Bottom Members', fontsize = 14)"
   ]
  },
  {
   "cell_type": "markdown",
   "id": "63ea64cd",
   "metadata": {},
   "source": [
    "<font color='red'>Question: </font> Describe any similarities and differences between the members. What is the strain at approximately 10 kN? Does it match your predictions? Explain your reasoning."
   ]
  },
  {
   "cell_type": "markdown",
   "id": "e0c1d263",
   "metadata": {},
   "source": [
    "<font color='red'>Answer: </font>"
   ]
  },
  {
   "cell_type": "markdown",
   "id": "4b92135e",
   "metadata": {},
   "source": [
    "## (4.3) Middle Section Diagonal Members"
   ]
  },
  {
   "cell_type": "code",
   "execution_count": null,
   "id": "98734fcd",
   "metadata": {},
   "outputs": [],
   "source": [
    "sensor_AH = pd.read_csv('AH_timeseries.txt').to_numpy()\n",
    "sensor_JE = pd.read_csv('JE_timeseries.txt').to_numpy()\n",
    "sensor_GF = pd.read_csv('GF_timeseries.txt').to_numpy()\n",
    "sensor_CI = pd.read_csv('CI_timeseries.txt').to_numpy()"
   ]
  },
  {
   "cell_type": "code",
   "execution_count": null,
   "id": "340d2314",
   "metadata": {},
   "outputs": [],
   "source": [
    "ax = plt.axes()\n",
    "\n",
    "plt.plot(conv_load['load']*lbs_to_kN,sensor_AH, label='AH')\n",
    "plt.plot(conv_load['load']*lbs_to_kN,sensor_JE, label='JE')\n",
    "plt.plot(conv_load['load']*lbs_to_kN,sensor_GF, label='GF')\n",
    "plt.plot(conv_load['load']*lbs_to_kN,sensor_CI, label='CI')\n",
    "\n",
    "plt.ylabel('Strain (micro strain)', fontsize = 10)\n",
    "plt.xlabel('Load (kN)', fontsize = 10)\n",
    "ax.legend()\n",
    "ax.set_title('Middle Section Diagonal Members', fontsize = 14)"
   ]
  },
  {
   "cell_type": "markdown",
   "id": "0d595ef1",
   "metadata": {},
   "source": [
    "<font color='red'>Question: </font> Describe any similarities and differences between the members. Is this plot as you would expect? Explain your reasoning."
   ]
  },
  {
   "cell_type": "markdown",
   "id": "ca76cac0",
   "metadata": {},
   "source": [
    "<font color='red'>Answer: </font>"
   ]
  },
  {
   "cell_type": "markdown",
   "id": "9c400c56",
   "metadata": {},
   "source": [
    "# Discussion"
   ]
  },
  {
   "cell_type": "markdown",
   "id": "9839f30c",
   "metadata": {},
   "source": [
    "<font color='red'><b>Question (1): </b></font> Use the strain-load plots for the diagonal members (AG, BI, DH, JC) from problem (4.1) to revise the stiffness of the material in your FE model. Are your estimations the same across the four different members? How do they compare to the theoretical value?\n",
    "\n",
    "* Hint1: \"Load\" from data is the system (total) load. Go back to Quiz 2 to find the equation to convert total load to the load felt by each member. Again, pay attention to number of angle bars for each member.\n",
    "\n",
    "* Hint2: Reading the values from the graph is acceptable."
   ]
  },
  {
   "cell_type": "markdown",
   "id": "6c7874a8",
   "metadata": {},
   "source": [
    "<font color='red'>Answer: </font>"
   ]
  },
  {
   "cell_type": "markdown",
   "id": "b7cef010",
   "metadata": {},
   "source": [
    "<font color='red'><b>Question (2):</b> </font> Think back to what you observed during the tests. (Watch the videos <a href=\"https://drive.google.com/drive/folders/1HdlADyA2HnBFveScQDFVCDR5zo17PDfv?usp=sharing\">here</a> if it helps.) Describe the deformation mechanisms of the bridges as a whole at different loading stages. "
   ]
  },
  {
   "cell_type": "markdown",
   "id": "9461b15a",
   "metadata": {},
   "source": [
    "<font color='red'>Answer: </font>"
   ]
  },
  {
   "cell_type": "markdown",
   "id": "08a6b534",
   "metadata": {},
   "source": [
    "<font color='red'><b>Question (3):</b></font> Discuss the validity of the assumptions that we made in the analysis given in Quiz 2.\n"
   ]
  },
  {
   "cell_type": "markdown",
   "id": "782e7085",
   "metadata": {},
   "source": [
    "<font color='red'>Answer: </font>"
   ]
  },
  {
   "cell_type": "markdown",
   "id": "bb453f9e",
   "metadata": {},
   "source": [
    "<font color='red'><b>Question (4):</b></font> If you could improve the simulation analysis, what would you do?\n"
   ]
  },
  {
   "cell_type": "markdown",
   "id": "e306ea8e",
   "metadata": {},
   "source": [
    "<font color='red'>Answer: </font>"
   ]
  },
  {
   "cell_type": "markdown",
   "id": "c17b8114",
   "metadata": {},
   "source": [
    "<font color='red'><b>Question (5):</b></font> If you were allowed to add more sensors to the model bridge, what and where would you add? "
   ]
  },
  {
   "cell_type": "markdown",
   "id": "fe0bfd0e",
   "metadata": {},
   "source": [
    "<font color='red'>Answer: </font>"
   ]
  }
 ],
 "metadata": {
  "kernelspec": {
   "display_name": "Python 3 (ipykernel)",
   "language": "python",
   "name": "python3"
  },
  "language_info": {
   "codemirror_mode": {
    "name": "ipython",
    "version": 3
   },
   "file_extension": ".py",
   "mimetype": "text/x-python",
   "name": "python",
   "nbconvert_exporter": "python",
   "pygments_lexer": "ipython3",
   "version": "3.9.12"
  }
 },
 "nbformat": 4,
 "nbformat_minor": 5
}
